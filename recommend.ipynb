{
 "cells": [
  {
   "cell_type": "code",
   "execution_count": null,
   "id": "36cdb49e-e4a7-4ae1-8868-fe7c0164ce46",
   "metadata": {},
   "outputs": [],
   "source": [
    "!pip install pandas"
   ]
  },
  {
   "cell_type": "code",
   "execution_count": 2,
   "id": "159dfcee-ed33-40a6-9fad-75e0b2015246",
   "metadata": {
    "scrolled": true
   },
   "outputs": [],
   "source": [
    "import pandas as pd\n",
    "\n",
    "df = pd.read_csv('beers.csv')"
   ]
  },
  {
   "cell_type": "code",
   "execution_count": 3,
   "id": "81d30406-6568-41e8-b383-42345fda72b2",
   "metadata": {},
   "outputs": [],
   "source": [
    "def summary(beer):\n",
    "    txt = f'''A cerveja {beer['name']} pertence a categoria {beer['category']}.\n",
    "    \n",
    "    Seus indicadores são: ABV:{beer['abv']}, IBU:{beer['ibu']}, EBC:{beer['ebc']}\n",
    "    \n",
    "    Algumas das comidas que vão combinar perfeitamente com essa cerveja são: {beer['foodPairing']}\n",
    "    \n",
    "    {beer['description']}\n",
    "    \n",
    "    Preparo da cerveja: {beer['brewersTips']}'''\n",
    "    return txt"
   ]
  },
  {
   "cell_type": "code",
   "execution_count": 5,
   "id": "b5ba405c-b845-43e1-a6e5-c2e7424b97a4",
   "metadata": {
    "scrolled": true
   },
   "outputs": [],
   "source": [
    "df['summary'] = df.apply(lambda df: summary(df), axis=1)"
   ]
  },
  {
   "cell_type": "code",
   "execution_count": null,
   "id": "1adef5bc-2269-45f1-a36f-617f79b1f0a2",
   "metadata": {
    "scrolled": true
   },
   "outputs": [],
   "source": [
    "!pip install openai"
   ]
  },
  {
   "cell_type": "code",
   "execution_count": 8,
   "id": "92395c8d-05eb-4b0d-aa4a-a42b2f6fae99",
   "metadata": {},
   "outputs": [],
   "source": [
    "from openai import OpenAI\n",
    "client = OpenAI(api_key=\"<your-key>\")"
   ]
  },
  {
   "cell_type": "code",
   "execution_count": 9,
   "id": "64bb6079-273b-40bb-b819-495e21ca960b",
   "metadata": {},
   "outputs": [],
   "source": [
    "def embedding(txt):\n",
    "    res = client.embeddings.create(\n",
    "        model='text-embedding-ada-002',\n",
    "        input=txt\n",
    "    )\n",
    "    return res.data[0].embedding"
   ]
  },
  {
   "cell_type": "code",
   "execution_count": 10,
   "id": "12490a63-bb15-417e-99c1-606a0911ad82",
   "metadata": {},
   "outputs": [],
   "source": [
    "df['embeddings'] = df['summary'].apply(embedding)"
   ]
  },
  {
   "cell_type": "code",
   "execution_count": 17,
   "id": "29aef6e0-c970-4372-83c8-401bb25784b9",
   "metadata": {},
   "outputs": [],
   "source": [
    "import numpy as np\n",
    "\n",
    "def cosine_similarity(a, b):\n",
    "    return np.dot(a, b) / (np.linalg.norm(a) * np.linalg.norm(b))"
   ]
  },
  {
   "cell_type": "code",
   "execution_count": 56,
   "id": "72ba6546-8e51-413a-bc07-26c02a9023bd",
   "metadata": {},
   "outputs": [
    {
     "data": {
      "text/plain": [
       "array(['A cerveja Stout Café Imperial pertence a categoria Stout.\\n    \\n    Adentre um café artesanal com nossa Stout Café Imperial. O aroma de grãos de café torrados preenche o ar, enquanto cada gole revela camadas de complexidade. A infusão de café imperial durante a maturação proporciona uma riqueza profunda de sabores de café, complementada pela suavidade da levedura. Feche os olhos e sinta-se em uma cafeteria aconchegante, explorando nuances de torrefação e cafeína.\\n    \\n    Seus indicadores são: ABV:7.8, IBU:35, EBC:40\\n    \\n    Algumas das comidas que vão combinar perfeitamente com essa cerveja são: Churrasco,Brownie de chocolate amargo,Queijo azul.\\n    \\n    O mestres cervejeiros que criaram esse cerveja fizeram uma descrição sobre seu preparo e o que a torna única: A infusão de café imperial durante a maturação proporciona uma experiência robusta, destacando a torrefação do malte e os aromas intensos de café, enquanto a levedura contribui para um final seco.',\n",
       "       'A cerveja Porter Defumada com Chipotle pertence a categoria Porter.\\n    \\n    Explore uma fogueira defumada com nossa Porter Defumada com Chipotle. Os maltes defumados e a pimenta chipotle adicionada durante a fervura criam um espetáculo de sabores defumados e picantes. Feche os olhos e imagine-se junto a uma fogueira, onde a ousadia desta cerveja desperta seus sentidos.\\n    \\n    Seus indicadores são: ABV:6.8, IBU:35, EBC:25\\n    \\n    Algumas das comidas que vão combinar perfeitamente com essa cerveja são: Churrasco de porco,Queijo defumado,Brownie de pimenta.\\n    \\n    O mestres cervejeiros que criaram esse cerveja fizeram uma descrição sobre seu preparo e o que a torna única: A combinação de maltes defumados e a adição de pimenta chipotle seca durante a fervura criam uma Porter defumada com um toque picante, proporcionando uma experiência única e ousada.',\n",
       "       'A cerveja Rye Pale Ale Picante pertence a categoria Pale Ale.\\n    \\n    Entre em um jardim de especiarias com nossa Rye Pale Ale Picante. Cada gole é uma explosão de sabores, com o centeio adicionando um toque picante e terroso. Feche os olhos e imagine-se entre campos de grãos de centeio, explorando um mundo de complexidade e sabor.\\n    \\n    Seus indicadores são: ABV:5.8, IBU:35, EBC:14\\n    \\n    Algumas das comidas que vão combinar perfeitamente com essa cerveja são: Hambúrguer de carne de porco,Queijo pepper jack,Torta de maçã.\\n    \\n    O mestres cervejeiros que criaram esse cerveja fizeram uma descrição sobre seu preparo e o que a torna única: A adição de centeio maltado proporciona à Pale Ale um toque picante e terroso, enquanto a combinação de lúpulos cítricos e picantes contribui para um perfil de sabor complexo.'],\n",
       "      dtype=object)"
      ]
     },
     "execution_count": 56,
     "metadata": {},
     "output_type": "execute_result"
    }
   ],
   "source": [
    "# Solicita o input ao usuário\n",
    "question = input(\"Pergunta ao ibeer\\n\")\n",
    "\n",
    "# Transforma o input em embedding\n",
    "question_embedding = embedding(question)\n",
    "\n",
    "# Compara esse embedding com os embeddings das cervejas utilizando a similaridade cossenoidal.\n",
    "df['similarity'] = df['embeddings'].apply(lambda v: cosine_similarity(v, question_embedding))\n",
    "\n",
    "# Retorna a cerveja que possui a maior similaridade\n",
    "beer_summary = df.nlargest(1, 'similarity')['summary'].values\n",
    "beer_summary"
   ]
  },
  {
   "cell_type": "code",
   "execution_count": 18,
   "id": "d4c20871-6542-41c1-a25f-cfc253ba0eff",
   "metadata": {},
   "outputs": [],
   "source": [
    "def send_question():\n",
    "    question = input(\"Pergunta ao ibeer\\n\")\n",
    "    question_embedding = embedding(question)\n",
    "    df['similarity'] = df['embeddings'].apply(lambda v: cosine_similarity(v, question_embedding))\n",
    "    context = df.nlargest(3, 'similarity')['summary'].values\n",
    "    q = f'''context: {context}\n",
    "    Q: {question}\n",
    "    A: '''\n",
    "\n",
    "    response = client.chat.completions.create(\n",
    "        model=\"gpt-3.5-turbo-1106\",\n",
    "        messages=[\n",
    "            {\"role\": \"system\", \"content\": '''\n",
    "            Você é um especislita em cervejas artesanais, e irá atar na recomendação de cervejas para os clientes. \n",
    "            Responda pergunta abaixo somente se tiver 100% de certeza. \n",
    "            Você sempre deverá recomendar 3 cervejas para o usuário.\n",
    "            Utilize um palavriado refinado e gentil, pense que você quer convercer o cliente a comprar aquela cerveja.\n",
    "            Não fuja do contexto que será fornecido.\n",
    "            Sempre mantenha a ordem das cervejas na qual foi informada no contexto.\n",
    "            Sempre indique as comidas que mais combinam com cada cerveja.\n",
    "            '''},\n",
    "            {\"role\": \"user\", \"content\": q}\n",
    "        ]\n",
    "    )\n",
    "    print(response.choices[0].message.content)"
   ]
  },
  {
   "cell_type": "code",
   "execution_count": 19,
   "id": "4dce1216-2e34-4f0a-94ca-fb6c2937f5db",
   "metadata": {},
   "outputs": [
    {
     "name": "stdout",
     "output_type": "stream",
     "text": [
      "Pergunta ao ibeer\n",
      " Quero uma cerveja preta para comer com um hamburguer\n"
     ]
    },
    {
     "name": "stdout",
     "output_type": "stream",
     "text": [
      "Claro, meu caro apreciador de cervejas! Para acompanhar um delicioso hambúrguer, permita-me apresentar a você três opções refinadas e requintadas.\n",
      "\n",
      "1. Como primeira recomendação, sugiro a \"Stout Café Imperial\". Sua riqueza profunda de sabores de café vai se harmonizar perfeitamente com a suculência da carne do hambúrguer. A torrefação do malte e a infusão de café imperial proporcionarão uma experiência encorpada e sofisticada. \n",
      "\n",
      "2. Em segundo lugar, a \"Double Chocolate Porter\" é uma escolha extraordinária para acompanhar seu hambúrguer. A intensidade do cacau proporciona uma experiência decadente, combinando de forma sublime com a suculência da carne. A suavidade e riqueza dessa cerveja irão realçar os sabores do seu hamburguer.\n",
      "\n",
      "3. Por fim, não posso deixar de mencionar a \"Rye Pale Ale Picante\". Apesar de não ser uma cerveja preta, suas notas picantes e terrosas provenientes do centeio malteado irão proporcionar um contraste exuberante com a carne do hambúrguer, elevando a experiência gastronômica a um novo patamar.\n",
      "\n",
      "Então, meu caro, escolha com sabedoria e deleite-se com uma experiência incomparável!\n"
     ]
    }
   ],
   "source": [
    "send_question()"
   ]
  },
  {
   "cell_type": "code",
   "execution_count": 20,
   "id": "8e226319-dfc4-4c70-b007-04197f723caf",
   "metadata": {},
   "outputs": [
    {
     "data": {
      "text/html": [
       "<div>\n",
       "<style scoped>\n",
       "    .dataframe tbody tr th:only-of-type {\n",
       "        vertical-align: middle;\n",
       "    }\n",
       "\n",
       "    .dataframe tbody tr th {\n",
       "        vertical-align: top;\n",
       "    }\n",
       "\n",
       "    .dataframe thead th {\n",
       "        text-align: right;\n",
       "    }\n",
       "</style>\n",
       "<table border=\"1\" class=\"dataframe\">\n",
       "  <thead>\n",
       "    <tr style=\"text-align: right;\">\n",
       "      <th></th>\n",
       "      <th>name</th>\n",
       "      <th>description</th>\n",
       "      <th>imageUrl</th>\n",
       "      <th>price</th>\n",
       "      <th>abv</th>\n",
       "      <th>ibu</th>\n",
       "      <th>ebc</th>\n",
       "      <th>category</th>\n",
       "      <th>foodPairing</th>\n",
       "      <th>brewersTips</th>\n",
       "      <th>summary</th>\n",
       "      <th>embeddings</th>\n",
       "      <th>similarity</th>\n",
       "    </tr>\n",
       "  </thead>\n",
       "  <tbody>\n",
       "    <tr>\n",
       "      <th>9</th>\n",
       "      <td>Rye Pale Ale Picante</td>\n",
       "      <td>Entre em um jardim de especiarias com nossa Ry...</td>\n",
       "      <td>NaN</td>\n",
       "      <td>19.9</td>\n",
       "      <td>5.8</td>\n",
       "      <td>35</td>\n",
       "      <td>14</td>\n",
       "      <td>Pale Ale</td>\n",
       "      <td>Hambúrguer de carne de porco,Queijo pepper jac...</td>\n",
       "      <td>A adição de centeio maltado proporciona à Pale...</td>\n",
       "      <td>A cerveja Rye Pale Ale Picante pertence a cate...</td>\n",
       "      <td>[0.011999361217021942, -0.009249367751181126, ...</td>\n",
       "      <td>0.829971</td>\n",
       "    </tr>\n",
       "    <tr>\n",
       "      <th>2</th>\n",
       "      <td>Stout Café Imperial</td>\n",
       "      <td>Adentre um café artesanal com nossa Stout Café...</td>\n",
       "      <td>NaN</td>\n",
       "      <td>29.9</td>\n",
       "      <td>7.8</td>\n",
       "      <td>35</td>\n",
       "      <td>40</td>\n",
       "      <td>Stout</td>\n",
       "      <td>Churrasco,Brownie de chocolate amargo,Queijo a...</td>\n",
       "      <td>A infusão de café imperial durante a maturação...</td>\n",
       "      <td>A cerveja Stout Café Imperial pertence a categ...</td>\n",
       "      <td>[0.016071369871497154, -0.02415992133319378, -...</td>\n",
       "      <td>0.822183</td>\n",
       "    </tr>\n",
       "    <tr>\n",
       "      <th>10</th>\n",
       "      <td>Double Chocolate Porter</td>\n",
       "      <td>Delicie-se em uma chocolateria com nossa Doubl...</td>\n",
       "      <td>NaN</td>\n",
       "      <td>29.9</td>\n",
       "      <td>7.2</td>\n",
       "      <td>40</td>\n",
       "      <td>30</td>\n",
       "      <td>Porter</td>\n",
       "      <td>Brownie de chocolate,Queijo azul envelhecido,C...</td>\n",
       "      <td>A adição de cacau em pó e nibs de cacau durant...</td>\n",
       "      <td>A cerveja Double Chocolate Porter pertence a c...</td>\n",
       "      <td>[0.009299976751208305, -0.01400295551866293, -...</td>\n",
       "      <td>0.820612</td>\n",
       "    </tr>\n",
       "  </tbody>\n",
       "</table>\n",
       "</div>"
      ],
      "text/plain": [
       "                       name  \\\n",
       "9      Rye Pale Ale Picante   \n",
       "2       Stout Café Imperial   \n",
       "10  Double Chocolate Porter   \n",
       "\n",
       "                                          description  imageUrl  price  abv  \\\n",
       "9   Entre em um jardim de especiarias com nossa Ry...       NaN   19.9  5.8   \n",
       "2   Adentre um café artesanal com nossa Stout Café...       NaN   29.9  7.8   \n",
       "10  Delicie-se em uma chocolateria com nossa Doubl...       NaN   29.9  7.2   \n",
       "\n",
       "    ibu  ebc  category                                        foodPairing  \\\n",
       "9    35   14  Pale Ale  Hambúrguer de carne de porco,Queijo pepper jac...   \n",
       "2    35   40     Stout  Churrasco,Brownie de chocolate amargo,Queijo a...   \n",
       "10   40   30    Porter  Brownie de chocolate,Queijo azul envelhecido,C...   \n",
       "\n",
       "                                          brewersTips  \\\n",
       "9   A adição de centeio maltado proporciona à Pale...   \n",
       "2   A infusão de café imperial durante a maturação...   \n",
       "10  A adição de cacau em pó e nibs de cacau durant...   \n",
       "\n",
       "                                              summary  \\\n",
       "9   A cerveja Rye Pale Ale Picante pertence a cate...   \n",
       "2   A cerveja Stout Café Imperial pertence a categ...   \n",
       "10  A cerveja Double Chocolate Porter pertence a c...   \n",
       "\n",
       "                                           embeddings  similarity  \n",
       "9   [0.011999361217021942, -0.009249367751181126, ...    0.829971  \n",
       "2   [0.016071369871497154, -0.02415992133319378, -...    0.822183  \n",
       "10  [0.009299976751208305, -0.01400295551866293, -...    0.820612  "
      ]
     },
     "execution_count": 20,
     "metadata": {},
     "output_type": "execute_result"
    }
   ],
   "source": [
    "df.nlargest(3, 'similarity')"
   ]
  }
 ],
 "metadata": {
  "kernelspec": {
   "display_name": "Python 3 (ipykernel)",
   "language": "python",
   "name": "python3"
  },
  "language_info": {
   "codemirror_mode": {
    "name": "ipython",
    "version": 3
   },
   "file_extension": ".py",
   "mimetype": "text/x-python",
   "name": "python",
   "nbconvert_exporter": "python",
   "pygments_lexer": "ipython3",
   "version": "3.11.6"
  }
 },
 "nbformat": 4,
 "nbformat_minor": 5
}
